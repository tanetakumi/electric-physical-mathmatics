{
 "cells": [
  {
   "cell_type": "code",
   "execution_count": 1,
   "metadata": {},
   "outputs": [],
   "source": [
    "import math\n",
    "# 与えられた方程式\n",
    "def f(x):\n",
    "    return x + math.log(x)\n",
    "\n",
    "# 与えられた式の微分\n",
    "def df(x):\n",
    "    return 1 + 1/x"
   ]
  },
  {
   "cell_type": "code",
   "execution_count": 2,
   "metadata": {},
   "outputs": [],
   "source": [
    "#ニュートン法\n",
    "# ----------\n",
    "# x0    初期値\n",
    "# eps   誤差範囲\n",
    "# ----------\n",
    "def newton(x0, eps):\n",
    "    xn = x0                             # 初期値の代入\n",
    "    for i in range(100):               # ループ処理\n",
    "        xm = xn - f(xn)/df(xn)          # 接線とx軸との交点\n",
    "        if math.fabs(xm - xn) < eps:     # 収束半径以内になったら終了　| x_n+1 - x_n | < eps\n",
    "            print(\"収束半経以内になったので終了\")    \n",
    "            break\n",
    "        xn = xm                         # 新規の値を代入\n",
    "        print(i,\"回目 : \",xn)    \n"
   ]
  },
  {
   "cell_type": "code",
   "execution_count": 3,
   "metadata": {},
   "outputs": [],
   "source": [
    "def g(x):\n",
    "    return x - 0.5 * (x + math.log(x))"
   ]
  },
  {
   "cell_type": "code",
   "execution_count": 4,
   "metadata": {},
   "outputs": [],
   "source": [
    "# 不動点解析法\n",
    "# ----------\n",
    "# x0    初期値\n",
    "# eps   誤差範囲\n",
    "# ----------\n",
    "def fixdpoint(x0, eps):\n",
    "    xn = x0                             # 初期値の代入\n",
    "    for i in range(1000):               # ループ処理\n",
    "        xm = g(xn)                      # 接線とx軸との交点\n",
    "        if math.fabs(xm - xn) < eps:     # 収束半径以内になったら終了　| x_n+1 - x_n | < eps\n",
    "            print(\"収束半経以内になったので終了\")    \n",
    "            break\n",
    "        xn = xm                         # 新規の値を代入\n",
    "        print(i,\"回目 : \",xn)    "
   ]
  },
  {
   "cell_type": "code",
   "execution_count": 5,
   "metadata": {},
   "outputs": [],
   "source": [
    "# 割線法\n",
    "# ----------\n",
    "# x0    初期値\n",
    "# x1    x_1の値\n",
    "# eps   誤差範囲\n",
    "# ----------\n",
    "def secant(x0, x1, eps):\n",
    "    xm = x0                             # 初期値の代入\n",
    "    xn = x1                             # 初期値の代入\n",
    "    for i in range(1000):               # ループ処理\n",
    "        xo = xn - ((xn - xm)/(f(xn) - f(xm)))*f(xn)       \n",
    "        if math.fabs(xm - xn) < eps:     # 収束半径以内になったら終了　| x_n+1 - x_n | < eps\n",
    "            print(\"収束半経以内になったので終了\")    \n",
    "            break\n",
    "        xm = xn                         # 新規の値を代入\n",
    "        xn = xo                         # 新規の値を代入\n",
    "        print(i,\"回目 : \",xn)  "
   ]
  },
  {
   "cell_type": "code",
   "execution_count": 6,
   "metadata": {},
   "outputs": [
    {
     "name": "stdout",
     "output_type": "stream",
     "text": [
      "0 回目 :  0.059792334375603495\n",
      "1 回目 :  0.21534410763261172\n",
      "2 回目 :  0.4492627759146207\n",
      "3 回目 :  0.5580348805021758\n",
      "4 回目 :  0.5670960925116161\n",
      "5 回目 :  0.5671432891565303\n",
      "収束半経以内になったので終了\n"
     ]
    }
   ],
   "source": [
    "newton(2.5, 1e-8)"
   ]
  },
  {
   "cell_type": "code",
   "execution_count": 7,
   "metadata": {},
   "outputs": [
    {
     "name": "stdout",
     "output_type": "stream",
     "text": [
      "0 回目 :  0.7918546340629224\n",
      "1 回目 :  0.5126160404632647\n",
      "2 回目 :  0.590422106822973\n",
      "3 回目 :  0.5586698347070003\n",
      "4 回目 :  0.5704332253073547\n",
      "5 回目 :  0.5658961938747522\n",
      "6 回目 :  0.5676204072611215\n",
      "7 回目 :  0.566961394003815\n",
      "8 回目 :  0.5672127298764991\n",
      "9 回目 :  0.5671167952638971\n",
      "10 回目 :  0.5671534018055869\n",
      "11 回目 :  0.567139431865166\n",
      "12 回目 :  0.5671447628860355\n",
      "13 回目 :  0.56714272849772\n",
      "14 回目 :  0.5671435048420883\n",
      "15 回目 :  0.5671432085800041\n",
      "16 回目 :  0.5671433216369672\n",
      "17 回目 :  0.567143278493135\n",
      "18 回目 :  0.5671432949573132\n",
      "収束半経以内になったので終了\n"
     ]
    }
   ],
   "source": [
    "fixdpoint(2.5, 1e-8)"
   ]
  },
  {
   "cell_type": "code",
   "execution_count": 8,
   "metadata": {},
   "outputs": [
    {
     "name": "stdout",
     "output_type": "stream",
     "text": [
      "0 回目 :  0.13788896017565477\n",
      "1 回目 :  0.8945514180753918\n",
      "2 回目 :  0.6689476723111808\n",
      "3 回目 :  0.5523051416764982\n",
      "4 回目 :  0.5679519894812165\n",
      "5 回目 :  0.5671500997593381\n",
      "6 回目 :  0.5671432873134763\n",
      "7 回目 :  0.5671432904097957\n",
      "収束半経以内になったので終了\n"
     ]
    }
   ],
   "source": [
    "secant(2.5,2,1e-8)"
   ]
  }
 ],
 "metadata": {
  "interpreter": {
   "hash": "36cf16204b8548560b1c020c4e8fb5b57f0e4c58016f52f2d4be01e192833930"
  },
  "kernelspec": {
   "display_name": "Python 3.9.5 64-bit",
   "language": "python",
   "name": "python3"
  },
  "language_info": {
   "codemirror_mode": {
    "name": "ipython",
    "version": 3
   },
   "file_extension": ".py",
   "mimetype": "text/x-python",
   "name": "python",
   "nbconvert_exporter": "python",
   "pygments_lexer": "ipython3",
   "version": "3.9.5"
  },
  "orig_nbformat": 4
 },
 "nbformat": 4,
 "nbformat_minor": 2
}
