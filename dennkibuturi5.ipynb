{
 "cells": [
  {
   "cell_type": "code",
   "execution_count": null,
   "metadata": {},
   "outputs": [],
   "source": [
    "import math"
   ]
  },
  {
   "cell_type": "code",
   "execution_count": 9,
   "metadata": {},
   "outputs": [],
   "source": [
    "# 離散化モデルでの式\n",
    "def f1(h, e_n, i_n1, i_n):\n",
    "    return (2/h)*(i_n1-i_n)-e_n\n",
    "\n",
    "def f2(h, v_n, i_n1, i_n):\n",
    "    return (h/2)*(i_n1+i_n)+v_n\n",
    "\n",
    "def f3(h,e_n,v_n,i_n):\n",
    "    return ((2*h)/(4+0.4*h+h**2))*(1+e_n-v_n)+((4-h**2)/(4+0.4*h+h**2))*i_n\n",
    "\n",
    "\n",
    "import matplotlib.pyplot as plt\n",
    "\n",
    "def gauss_jacobi(h, e_n, v_n, i_n):\n",
    "    time = []\n",
    "    current = []\n",
    "    voltage = []\n",
    "    for i in range(1000):\n",
    "\n",
    "        i_n1 = f3(h, e_n, v_n, i_n)\n",
    "        e_n1 = f1(h, e_n, i_n1, i_n)\n",
    "        v_n1 = f2(h, v_n, i_n1, i_n)\n",
    "        \n",
    "        i_n = i_n1     # 新しい値の代入\n",
    "        e_n = e_n1     # 新しい値の代入\n",
    "        v_n = v_n1     # 新しい値の代入\n",
    "\n",
    "        time.append(h*i)\n",
    "        current.append(i_n)\n",
    "        voltage.append(v_n)\n",
    "    return time, current, voltage\n",
    "        # print(i,\"回目 : \", 'i_n: {:.4f}'.format(i_n),' e_n: {:.4f}'.format(e_n),' v_n: {:.4f}'.format(v_n))\n"
   ]
  },
  {
   "cell_type": "code",
   "execution_count": null,
   "metadata": {},
   "outputs": [],
   "source": [
    "#　厳密解の式\n",
    "def i(t):\n",
    "    return (1/math.sqrt(0.99))*math.exp(-0.1*t)*math.sin(math.sqrt(0.99)*t)\n",
    "def v(t):\n",
    "    return 1-(0.1/math.sqrt(0.99))*math.exp(-0.1*t)*math.sin(math.sqrt(0.99)*t)-math.exp(-0.1*t)*math.cos(math.sqrt(0.99)*t)"
   ]
  },
  {
   "cell_type": "code",
   "execution_count": 10,
   "metadata": {},
   "outputs": [
    {
     "data": {
      "text/plain": [
       "[<matplotlib.lines.Line2D at 0x7f8697253f10>]"
      ]
     },
     "execution_count": 10,
     "metadata": {},
     "output_type": "execute_result"
    },
    {
     "data": {
      "image/png": "[encoded data removed]",
      "text/plain": [
       "<Figure size 720x504 with 1 Axes>"
      ]
     },
     "metadata": {
      "needs_background": "light"
     },
     "output_type": "display_data"
    }
   ],
   "source": [
    "import matplotlib.pyplot as plt\n",
    "\n",
    "x, y ,z = gauss_jacobi(0.1, 0,0,0)\n",
    "\n",
    "plt.figure(figsize=(10,7))\n",
    "plt.tick_params(labelsize=15)\n",
    "# 緑色のサインカーブを描く\n",
    "plt.plot(x, z, color = \"green\")"
   ]
  },
  {
   "cell_type": "code",
   "execution_count": 5,
   "metadata": {},
   "outputs": [
    {
     "name": "stdout",
     "output_type": "stream",
     "text": [
      "0 回目 :  i_n: 0.0494  e_n: 0.9877  v_n: 0.0025\n",
      "1 回目 :  i_n: 0.1469  e_n: 0.9633  v_n: 0.0073\n",
      "2 回目 :  i_n: 0.2421  e_n: 0.9395  v_n: 0.0121\n",
      "3 回目 :  i_n: 0.3349  e_n: 0.9163  v_n: 0.0167\n",
      "4 回目 :  i_n: 0.4254  e_n: 0.8937  v_n: 0.0213\n",
      "5 回目 :  i_n: 0.5136  e_n: 0.8716  v_n: 0.0257\n",
      "6 回目 :  i_n: 0.5997  e_n: 0.8501  v_n: 0.0300\n",
      "7 回目 :  i_n: 0.6837  e_n: 0.8291  v_n: 0.0342\n",
      "8 回目 :  i_n: 0.7655  e_n: 0.8086  v_n: 0.0383\n",
      "9 回目 :  i_n: 0.8454  e_n: 0.7886  v_n: 0.0423\n",
      "10 回目 :  i_n: 0.9233  e_n: 0.7692  v_n: 0.0462\n",
      "11 回目 :  i_n: 0.9993  e_n: 0.7502  v_n: 0.0500\n",
      "12 回目 :  i_n: 1.0734  e_n: 0.7317  v_n: 0.0537\n",
      "13 回目 :  i_n: 1.1456  e_n: 0.7136  v_n: 0.0573\n",
      "14 回目 :  i_n: 1.2161  e_n: 0.6960  v_n: 0.0608\n",
      "15 回目 :  i_n: 1.2848  e_n: 0.6788  v_n: 0.0642\n",
      "16 回目 :  i_n: 1.3519  e_n: 0.6620  v_n: 0.0676\n",
      "17 回目 :  i_n: 1.4173  e_n: 0.6457  v_n: 0.0709\n",
      "18 回目 :  i_n: 1.4810  e_n: 0.6297  v_n: 0.0741\n",
      "19 回目 :  i_n: 1.5432  e_n: 0.6142  v_n: 0.0772\n",
      "20 回目 :  i_n: 1.6039  e_n: 0.5990  v_n: 0.0802\n",
      "21 回目 :  i_n: 1.6631  e_n: 0.5842  v_n: 0.0832\n",
      "22 回目 :  i_n: 1.7208  e_n: 0.5698  v_n: 0.0860\n",
      "23 回目 :  i_n: 1.7770  e_n: 0.5557  v_n: 0.0889\n",
      "24 回目 :  i_n: 1.8319  e_n: 0.5420  v_n: 0.0916\n",
      "25 回目 :  i_n: 1.8855  e_n: 0.5286  v_n: 0.0943\n",
      "26 回目 :  i_n: 1.9377  e_n: 0.5156  v_n: 0.0969\n",
      "27 回目 :  i_n: 1.9886  e_n: 0.5029  v_n: 0.0994\n",
      "28 回目 :  i_n: 2.0383  e_n: 0.4904  v_n: 0.1019\n",
      "29 回目 :  i_n: 2.0867  e_n: 0.4783  v_n: 0.1043\n",
      "30 回目 :  i_n: 2.1339  e_n: 0.4665  v_n: 0.1067\n",
      "31 回目 :  i_n: 2.1800  e_n: 0.4550  v_n: 0.1090\n",
      "32 回目 :  i_n: 2.2249  e_n: 0.4438  v_n: 0.1112\n",
      "33 回目 :  i_n: 2.2688  e_n: 0.4328  v_n: 0.1134\n",
      "34 回目 :  i_n: 2.3115  e_n: 0.4221  v_n: 0.1156\n",
      "35 回目 :  i_n: 2.3532  e_n: 0.4117  v_n: 0.1177\n",
      "36 回目 :  i_n: 2.3939  e_n: 0.4015  v_n: 0.1197\n",
      "37 回目 :  i_n: 2.4335  e_n: 0.3916  v_n: 0.1217\n",
      "38 回目 :  i_n: 2.4722  e_n: 0.3819  v_n: 0.1236\n",
      "39 回目 :  i_n: 2.5099  e_n: 0.3725  v_n: 0.1255\n",
      "40 回目 :  i_n: 2.5467  e_n: 0.3633  v_n: 0.1273\n",
      "41 回目 :  i_n: 2.5826  e_n: 0.3543  v_n: 0.1291\n",
      "42 回目 :  i_n: 2.6176  e_n: 0.3456  v_n: 0.1309\n",
      "43 回目 :  i_n: 2.6517  e_n: 0.3371  v_n: 0.1326\n",
      "44 回目 :  i_n: 2.6850  e_n: 0.3287  v_n: 0.1343\n",
      "45 回目 :  i_n: 2.7175  e_n: 0.3206  v_n: 0.1359\n",
      "46 回目 :  i_n: 2.7492  e_n: 0.3127  v_n: 0.1375\n",
      "47 回目 :  i_n: 2.7800  e_n: 0.3050  v_n: 0.1390\n",
      "48 回目 :  i_n: 2.8102  e_n: 0.2975  v_n: 0.1405\n",
      "49 回目 :  i_n: 2.8395  e_n: 0.2901  v_n: 0.1420\n",
      "50 回目 :  i_n: 2.8682  e_n: 0.2829  v_n: 0.1434\n",
      "51 回目 :  i_n: 2.8961  e_n: 0.2760  v_n: 0.1448\n",
      "52 回目 :  i_n: 2.9234  e_n: 0.2691  v_n: 0.1462\n",
      "53 回目 :  i_n: 2.9500  e_n: 0.2625  v_n: 0.1475\n",
      "54 回目 :  i_n: 2.9759  e_n: 0.2560  v_n: 0.1488\n",
      "55 回目 :  i_n: 3.0012  e_n: 0.2497  v_n: 0.1501\n",
      "56 回目 :  i_n: 3.0259  e_n: 0.2435  v_n: 0.1513\n",
      "57 回目 :  i_n: 3.0499  e_n: 0.2375  v_n: 0.1525\n",
      "58 回目 :  i_n: 3.0734  e_n: 0.2317  v_n: 0.1537\n",
      "59 回目 :  i_n: 3.0963  e_n: 0.2259  v_n: 0.1548\n",
      "60 回目 :  i_n: 3.1186  e_n: 0.2204  v_n: 0.1559\n",
      "61 回目 :  i_n: 3.1403  e_n: 0.2149  v_n: 0.1570\n",
      "62 回目 :  i_n: 3.1616  e_n: 0.2096  v_n: 0.1581\n",
      "63 回目 :  i_n: 3.1823  e_n: 0.2044  v_n: 0.1591\n",
      "64 回目 :  i_n: 3.2025  e_n: 0.1994  v_n: 0.1601\n",
      "65 回目 :  i_n: 3.2221  e_n: 0.1945  v_n: 0.1611\n",
      "66 回目 :  i_n: 3.2413  e_n: 0.1897  v_n: 0.1621\n",
      "67 回目 :  i_n: 3.2601  e_n: 0.1850  v_n: 0.1630\n",
      "68 回目 :  i_n: 3.2784  e_n: 0.1804  v_n: 0.1639\n",
      "69 回目 :  i_n: 3.2962  e_n: 0.1760  v_n: 0.1648\n",
      "70 回目 :  i_n: 3.3135  e_n: 0.1716  v_n: 0.1657\n",
      "71 回目 :  i_n: 3.3305  e_n: 0.1674  v_n: 0.1665\n",
      "72 回目 :  i_n: 3.3470  e_n: 0.1632  v_n: 0.1674\n",
      "73 回目 :  i_n: 3.3632  e_n: 0.1592  v_n: 0.1682\n",
      "74 回目 :  i_n: 3.3789  e_n: 0.1553  v_n: 0.1689\n",
      "75 回目 :  i_n: 3.3942  e_n: 0.1514  v_n: 0.1697\n",
      "76 回目 :  i_n: 3.4092  e_n: 0.1477  v_n: 0.1705\n",
      "77 回目 :  i_n: 3.4238  e_n: 0.1441  v_n: 0.1712\n",
      "78 回目 :  i_n: 3.4380  e_n: 0.1405  v_n: 0.1719\n",
      "79 回目 :  i_n: 3.4519  e_n: 0.1370  v_n: 0.1726\n",
      "80 回目 :  i_n: 3.4654  e_n: 0.1337  v_n: 0.1733\n",
      "81 回目 :  i_n: 3.4786  e_n: 0.1304  v_n: 0.1739\n",
      "82 回目 :  i_n: 3.4915  e_n: 0.1271  v_n: 0.1746\n",
      "83 回目 :  i_n: 3.5040  e_n: 0.1240  v_n: 0.1752\n",
      "84 回目 :  i_n: 3.5163  e_n: 0.1209  v_n: 0.1758\n",
      "85 回目 :  i_n: 3.5282  e_n: 0.1179  v_n: 0.1764\n",
      "86 回目 :  i_n: 3.5399  e_n: 0.1150  v_n: 0.1770\n",
      "87 回目 :  i_n: 3.5512  e_n: 0.1122  v_n: 0.1776\n",
      "88 回目 :  i_n: 3.5623  e_n: 0.1094  v_n: 0.1781\n",
      "89 回目 :  i_n: 3.5731  e_n: 0.1067  v_n: 0.1787\n",
      "90 回目 :  i_n: 3.5837  e_n: 0.1041  v_n: 0.1792\n",
      "91 回目 :  i_n: 3.5939  e_n: 0.1015  v_n: 0.1797\n",
      "92 回目 :  i_n: 3.6040  e_n: 0.0990  v_n: 0.1802\n",
      "93 回目 :  i_n: 3.6137  e_n: 0.0966  v_n: 0.1807\n",
      "94 回目 :  i_n: 3.6233  e_n: 0.0942  v_n: 0.1812\n",
      "95 回目 :  i_n: 3.6326  e_n: 0.0919  v_n: 0.1816\n",
      "96 回目 :  i_n: 3.6417  e_n: 0.0896  v_n: 0.1821\n",
      "97 回目 :  i_n: 3.6505  e_n: 0.0874  v_n: 0.1825\n",
      "98 回目 :  i_n: 3.6591  e_n: 0.0852  v_n: 0.1830\n",
      "99 回目 :  i_n: 3.6675  e_n: 0.0831  v_n: 0.1834\n"
     ]
    }
   ],
   "source": [
    "gauss_jacobi(0.1,0,0,0)"
   ]
  }
 ],
 "metadata": {
  "interpreter": {
   "hash": "36cf16204b8548560b1c020c4e8fb5b57f0e4c58016f52f2d4be01e192833930"
  },
  "kernelspec": {
   "display_name": "Python 3.9.5 64-bit",
   "language": "python",
   "name": "python3"
  },
  "language_info": {
   "codemirror_mode": {
    "name": "ipython",
    "version": 3
   },
   "file_extension": ".py",
   "mimetype": "text/x-python",
   "name": "python",
   "nbconvert_exporter": "python",
   "pygments_lexer": "ipython3",
   "version": "3.9.5"
  },
  "orig_nbformat": 4
 },
 "nbformat": 4,
 "nbformat_minor": 2
}
